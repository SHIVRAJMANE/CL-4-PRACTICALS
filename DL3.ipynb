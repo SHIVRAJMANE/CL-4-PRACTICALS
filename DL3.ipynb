{
 "cells": [
  {
   "cell_type": "code",
   "execution_count": null,
   "id": "0e28f55d-ba7b-4bf5-aab5-8ccfc21802e8",
   "metadata": {},
   "outputs": [],
   "source": [
    "Name - Gunjal Abhishek Dattatraya.\n",
    "Class - BE Artificial Intelligence and Data Science.\n",
    "Roll No. - 19\n",
    "Practical No. 03-  Design RNN or its variant including LSTM or GRU a) Select a suitable time series dataset.\n",
    "Example – predict sentiments based on product reviews b) Apply for prediction\n"
   ]
  },
  {
   "cell_type": "code",
   "execution_count": 3,
   "id": "18a90f88-aa7a-47e7-8980-b7bee00fcade",
   "metadata": {},
   "outputs": [],
   "source": [
    "import tensorflow as tf\n",
    "from tensorflow.keras.models import Sequential\n",
    "from tensorflow.keras.layers import LSTM, Embedding, Dense\n",
    "from tensorflow.keras.preprocessing.text import Tokenizer\n",
    "from tensorflow.keras.preprocessing.sequence import pad_sequences\n",
    "from sklearn.model_selection import train_test_split\n",
    "import numpy as np"
   ]
  },
  {
   "cell_type": "code",
   "execution_count": 7,
   "id": "f0a2ec3f-ab0f-4029-b2eb-c2da659aa5d1",
   "metadata": {},
   "outputs": [],
   "source": [
    "reviews = [\n",
    "    \"This product is amazing! I love it.\",  # Positive\n",
    "    \"The quality is terrible. Do not buy.\", # Negative\n",
    "    \"It's okay. Nothing special.\",         # Neutral\n",
    "    \"Works as expected. Good value.\",      # Positive\n",
    "    \"I'm very disappointed. Waste of money.\", # Negative\n",
    "]\n",
    "sentiments = [1, 0, 2, 1, 0] # 1: Positive, 0: Negative, 2: Neutral"
   ]
  },
  {
   "cell_type": "code",
   "execution_count": 8,
   "id": "ca5d1022-7f8c-40d0-bacc-67b44e1b7676",
   "metadata": {},
   "outputs": [],
   "source": [
    "# 1. Data Preprocessing\n",
    "tokenizer = Tokenizer(num_words=5000)  # Adjust vocabulary size as needed\n",
    "tokenizer.fit_on_texts(reviews)\n",
    "sequences = tokenizer.texts_to_sequences(reviews)\n",
    "padded_sequences = pad_sequences(sequences, maxlen=100, padding='post', truncating='post') # Adjust maxlen"
   ]
  },
  {
   "cell_type": "code",
   "execution_count": 9,
   "id": "814cb8cb-6c4f-47a5-8652-77fa1a46cd1b",
   "metadata": {},
   "outputs": [],
   "source": [
    "# Convert sentiments to categorical (one-hot encoding)\n",
    "sentiments = tf.keras.utils.to_categorical(sentiments, num_classes=3) # 3 classes"
   ]
  },
  {
   "cell_type": "code",
   "execution_count": 11,
   "id": "237e7380-4f87-414a-8f07-1c4642d2da73",
   "metadata": {},
   "outputs": [],
   "source": [
    "# 2. Split Data\n",
    "X_train, X_test, y_train, y_test = train_test_split(padded_sequences, sentiments, test_size=0.2, random_state=42)"
   ]
  },
  {
   "cell_type": "code",
   "execution_count": 13,
   "id": "68b4ac0a-d8d2-4d37-b744-53d889653843",
   "metadata": {},
   "outputs": [],
   "source": [
    "# 3. Build LSTM Model\n",
    "model = Sequential()\n",
    "model.add(Embedding(5000, 32, input_length=100)) # Embedding layer\n",
    "model.add(LSTM(64)) # LSTM layer\n",
    "model.add(Dense(3, activation='softmax')) # Output layer with softmax for classification\n"
   ]
  },
  {
   "cell_type": "code",
   "execution_count": 14,
   "id": "8a0e9aac-9864-44a8-b2d0-a90ed1d6f7ac",
   "metadata": {},
   "outputs": [],
   "source": [
    "# 4. Compile the Model\n",
    "model.compile(loss='categorical_crossentropy', optimizer='adam', metrics=['accuracy'])"
   ]
  },
  {
   "cell_type": "code",
   "execution_count": 30,
   "id": "86070f07-37ea-4945-af51-b6a04f5a4322",
   "metadata": {},
   "outputs": [
    {
     "name": "stdout",
     "output_type": "stream",
     "text": [
      "Epoch 1/10\n",
      "\u001b[1m1/1\u001b[0m \u001b[32m━━━━━━━━━━━━━━━━━━━━\u001b[0m\u001b[37m\u001b[0m \u001b[1m0s\u001b[0m 57ms/step - accuracy: 0.5000 - loss: 1.0415\n",
      "Epoch 2/10\n",
      "\u001b[1m1/1\u001b[0m \u001b[32m━━━━━━━━━━━━━━━━━━━━\u001b[0m\u001b[37m\u001b[0m \u001b[1m0s\u001b[0m 46ms/step - accuracy: 0.5000 - loss: 1.0416\n",
      "Epoch 3/10\n",
      "\u001b[1m1/1\u001b[0m \u001b[32m━━━━━━━━━━━━━━━━━━━━\u001b[0m\u001b[37m\u001b[0m \u001b[1m0s\u001b[0m 49ms/step - accuracy: 0.5000 - loss: 1.0414\n",
      "Epoch 4/10\n",
      "\u001b[1m1/1\u001b[0m \u001b[32m━━━━━━━━━━━━━━━━━━━━\u001b[0m\u001b[37m\u001b[0m \u001b[1m0s\u001b[0m 52ms/step - accuracy: 0.5000 - loss: 1.0412\n",
      "Epoch 5/10\n",
      "\u001b[1m1/1\u001b[0m \u001b[32m━━━━━━━━━━━━━━━━━━━━\u001b[0m\u001b[37m\u001b[0m \u001b[1m0s\u001b[0m 47ms/step - accuracy: 0.5000 - loss: 1.0408\n",
      "Epoch 6/10\n",
      "\u001b[1m1/1\u001b[0m \u001b[32m━━━━━━━━━━━━━━━━━━━━\u001b[0m\u001b[37m\u001b[0m \u001b[1m0s\u001b[0m 46ms/step - accuracy: 0.5000 - loss: 1.0405\n",
      "Epoch 7/10\n",
      "\u001b[1m1/1\u001b[0m \u001b[32m━━━━━━━━━━━━━━━━━━━━\u001b[0m\u001b[37m\u001b[0m \u001b[1m0s\u001b[0m 49ms/step - accuracy: 0.5000 - loss: 1.0402\n",
      "Epoch 8/10\n",
      "\u001b[1m1/1\u001b[0m \u001b[32m━━━━━━━━━━━━━━━━━━━━\u001b[0m\u001b[37m\u001b[0m \u001b[1m0s\u001b[0m 49ms/step - accuracy: 0.5000 - loss: 1.0399\n",
      "Epoch 9/10\n",
      "\u001b[1m1/1\u001b[0m \u001b[32m━━━━━━━━━━━━━━━━━━━━\u001b[0m\u001b[37m\u001b[0m \u001b[1m0s\u001b[0m 51ms/step - accuracy: 0.5000 - loss: 1.0398\n",
      "Epoch 10/10\n",
      "\u001b[1m1/1\u001b[0m \u001b[32m━━━━━━━━━━━━━━━━━━━━\u001b[0m\u001b[37m\u001b[0m \u001b[1m0s\u001b[0m 50ms/step - accuracy: 0.5000 - loss: 1.0397\n"
     ]
    },
    {
     "data": {
      "text/plain": [
       "<keras.src.callbacks.history.History at 0x181999de0d0>"
      ]
     },
     "execution_count": 30,
     "metadata": {},
     "output_type": "execute_result"
    }
   ],
   "source": [
    "# 5. Train the Model\n",
    "model.fit(X_train, y_train, epochs=10, batch_size=32) # Adjust epochs and batch size"
   ]
  },
  {
   "cell_type": "code",
   "execution_count": 31,
   "id": "dc491e83-a5ba-46f5-9737-a5926df6497a",
   "metadata": {},
   "outputs": [
    {
     "name": "stdout",
     "output_type": "stream",
     "text": [
      "\u001b[1m1/1\u001b[0m \u001b[32m━━━━━━━━━━━━━━━━━━━━\u001b[0m\u001b[37m\u001b[0m \u001b[1m0s\u001b[0m 50ms/step - accuracy: 0.0000e+00 - loss: 1.3945\n",
      "Loss: 1.3945350646972656\n",
      "Accuracy: 0.0\n"
     ]
    }
   ],
   "source": [
    "# 6. Evaluate the Model\n",
    "loss, accuracy = model.evaluate(X_test, y_test)\n",
    "print(f\"Loss: {loss}\")\n",
    "print(f\"Accuracy: {accuracy}\")"
   ]
  },
  {
   "cell_type": "code",
   "execution_count": 32,
   "id": "5e8effa8-3fdc-426b-bf44-348b90f7a9c4",
   "metadata": {},
   "outputs": [
    {
     "name": "stdout",
     "output_type": "stream",
     "text": [
      "\u001b[1m1/1\u001b[0m \u001b[32m━━━━━━━━━━━━━━━━━━━━\u001b[0m\u001b[37m\u001b[0m \u001b[1m0s\u001b[0m 35ms/step\n",
      "[[0.2479483  0.5061574  0.2458943 ]\n",
      " [0.24794832 0.5061574  0.24589431]]\n"
     ]
    }
   ],
   "source": [
    "# 7. Make Predictions (Example)\n",
    "new_reviews = [\"This is a fantastic product!\", \"Terrible experience.\"]\n",
    "new_sequences = tokenizer.texts_to_sequences(new_reviews)\n",
    "new_padded = pad_sequences(new_sequences, maxlen=100, padding='post', truncating='post')\n",
    "predictions = model.predict(new_padded)\n",
    "print(predictions) # Probabilities for each sentiment class"
   ]
  },
  {
   "cell_type": "code",
   "execution_count": 33,
   "id": "58191916-3bde-47d6-a5f3-ec4b7da0f5db",
   "metadata": {},
   "outputs": [
    {
     "name": "stdout",
     "output_type": "stream",
     "text": [
      "[1 1]\n"
     ]
    }
   ],
   "source": [
    "# Get predicted sentiment labels (optional)\n",
    "predicted_labels = np.argmax(predictions, axis=1)\n",
    "print(predicted_labels)"
   ]
  },
  {
   "cell_type": "code",
   "execution_count": null,
   "id": "6e02fd0d-97b4-42c6-bbb1-e6b8a44d36d8",
   "metadata": {},
   "outputs": [],
   "source": []
  }
 ],
 "metadata": {
  "kernelspec": {
   "display_name": "Python 3 (ipykernel)",
   "language": "python",
   "name": "python3"
  },
  "language_info": {
   "codemirror_mode": {
    "name": "ipython",
    "version": 3
   },
   "file_extension": ".py",
   "mimetype": "text/x-python",
   "name": "python",
   "nbconvert_exporter": "python",
   "pygments_lexer": "ipython3",
   "version": "3.11.7"
  }
 },
 "nbformat": 4,
 "nbformat_minor": 5
}
